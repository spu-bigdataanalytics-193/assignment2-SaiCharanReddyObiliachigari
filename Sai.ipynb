{
 "cells": [
  {
   "cell_type": "code",
   "execution_count": 1,
   "metadata": {},
   "outputs": [],
   "source": [
    "import os"
   ]
  },
  {
   "cell_type": "code",
   "execution_count": 14,
   "metadata": {},
   "outputs": [],
   "source": [
    "import json"
   ]
  },
  {
   "cell_type": "code",
   "execution_count": 15,
   "metadata": {},
   "outputs": [],
   "source": [
    "from PIL import Image"
   ]
  },
  {
   "cell_type": "code",
   "execution_count": 16,
   "metadata": {},
   "outputs": [],
   "source": [
    "import threading"
   ]
  },
  {
   "cell_type": "code",
   "execution_count": 17,
   "metadata": {},
   "outputs": [],
   "source": [
    "import requests"
   ]
  },
  {
   "cell_type": "code",
   "execution_count": 2,
   "metadata": {},
   "outputs": [],
   "source": [
    "client_id = \"84f6a6e08e6e43b\""
   ]
  },
  {
   "cell_type": "code",
   "execution_count": 21,
   "metadata": {},
   "outputs": [],
   "source": [
    "import os\n",
    "import json\n",
    "import requests\n",
    "from PIL import Image\n",
    "\n",
    "\n",
    "def get_imgur_client_id():\n",
    "    \"\"\"\n",
    "     gets the imgur client id key from config.txt file.\n",
    "    \"\"\"\n",
    "    with open('config.txt', 'r') as f:\n",
    "        client_id = f.read()\n",
    "\n",
    "    return client_id\n",
    "\n",
    "def create_download_dir():\n",
    "    \"\"\"\n",
    "    creates a download directory for images.\n",
    "    \"\"\"\n",
    "    dir_images = os.path.join('images')\n",
    "\n",
    "    if not os.path.exists(dir_images):\n",
    "        os.mkdir(dir_images)\n",
    "\n",
    "    return dir_images\n",
    "\n",
    "\n",
    "def download_image_from_url(url, directory):\n",
    "    \"\"\"\n",
    "    download image and save into given directory.\n",
    "    \"\"\"\n",
    "    response = requests.get(url, stream=True)\n",
    "    if response.status_code == 200:\n",
    "        filename = os.path.basename(url)\n",
    "        filepath = os.path.join(directory, f'{filename}')\n",
    "        with open(filepath, 'wb') as f:\n",
    "            f.write(response.content)\n",
    "    \n",
    "\n",
    "def build_link_list(client_id, num_of_images):\n",
    "    \"\"\"\n",
    "    builds a list of image links.\n",
    "    \"\"\"\n",
    "    i = 1\n",
    "    cnt = 0\n",
    "    url_list = []\n",
    "    url_list_len = []\n",
    "\n",
    "    try:\n",
    "        while(cnt < num_of_images):\n",
    "            # get request\n",
    "            response = requests.get(\n",
    "                f'https://api.imgur.com/3/gallery/random/random/{i}', \n",
    "                headers={'Authorization': f'Client-ID {client_id}'},\n",
    "                stream=True\n",
    "            )\n",
    "            \n",
    "            # control\n",
    "            if response.status_code == 200:\n",
    "                data_list = json.loads(response.content)['data']\n",
    "                url_list.extend([\n",
    "                    i['link']\n",
    "                    for i in data_list \n",
    "                    if 'type' in i \n",
    "                    and i['type'] in ('image/png', 'image/jpeg')\n",
    "                    and i['link'] not in url_list\n",
    "                ])\n",
    "\n",
    "                cnt = len(url_list)\n",
    "                url_list_len.append(cnt)\n",
    "                i += 1\n",
    "                \n",
    "                # control if api doesn't return anything new\n",
    "                if set(url_list_len[-10:]) == 1:\n",
    "                    break\n",
    "            \n",
    "            elif response.status_code == 429:\n",
    "                print('too many requests, enough, or you can choose to put time.sleep() in here...') \n",
    "                break\n",
    "\n",
    "            else:\n",
    "                break\n",
    "\n",
    "    except:\n",
    "        print('api limit reached!')\n",
    "        \n",
    "    \n",
    "    return url_list\n",
    "\n",
    "\n",
    "def create_thumbnail(size, path):\n",
    "    \"\"\"\n",
    "    create resized version of the image path given, with the same name \n",
    "    extended with _thumbnail.\n",
    "    \"\"\"\n",
    "    try:\n",
    "        # create thumbnail\n",
    "        image = Image.open(path)\n",
    "        image.thumbnail(size)\n",
    "\n",
    "        # create path for thumbnail\n",
    "        dir_images = os.path.join(path)\n",
    "        filename, extension = os.path.splitext(path)\n",
    "        new_filename = os.path.join('{}{}{}'.format(filename, '_thumbnail', extension))\n",
    "\n",
    "        # save thumbnail\n",
    "        image.convert('RGB').save(new_filename)\n",
    "    except:\n",
    "        'image error'"
   ]
  },
  {
   "cell_type": "code",
   "execution_count": 7,
   "metadata": {},
   "outputs": [],
   "source": [
    "NUM_OF_IMAGES = 1000 # max requests can be done per day is 12500\n",
    "\n",
    "IMAGES_DIR = create_download_dir()"
   ]
  },
  {
   "cell_type": "code",
   "execution_count": 8,
   "metadata": {},
   "outputs": [
    {
     "name": "stdout",
     "output_type": "stream",
     "text": [
      "too many requests, enough, or you can choose to put time.sleep() in here...\n",
      "CPU times: user 21.5 s, sys: 2.98 s, total: 24.5 s\n",
      "Wall time: 1min 28s\n"
     ]
    }
   ],
   "source": [
    "%%time\n",
    "\n",
    "image_links = build_link_list(client_id, NUM_OF_IMAGES)\n",
    "for image_link in image_links:\n",
    "    download_image_from_url(image_link, IMAGES_DIR)"
   ]
  },
  {
   "cell_type": "code",
   "execution_count": 25,
   "metadata": {},
   "outputs": [
    {
     "data": {
      "text/plain": [
       "731"
      ]
     },
     "execution_count": 25,
     "metadata": {},
     "output_type": "execute_result"
    }
   ],
   "source": [
    "len(image_links)"
   ]
  },
  {
   "cell_type": "code",
   "execution_count": 9,
   "metadata": {},
   "outputs": [
    {
     "name": "stdout",
     "output_type": "stream",
     "text": [
      "too many requests, enough, or you can choose to put time.sleep() in here...\n",
      "Done\n",
      "CPU times: user 3.21 s, sys: 204 ms, total: 3.41 s\n",
      "Wall time: 11.2 s\n"
     ]
    }
   ],
   "source": [
    "%%time\n",
    "\n",
    "import threading\n",
    "\n",
    "image_links = build_link_list(CLIENT_ID, NUM_OF_IMAGES)\n",
    "\n",
    "def slave():\n",
    "    for image_link in image_links:\n",
    "        download_image_from_url(image_link, IMAGES_DIR)\n",
    "threadings_list = []\n",
    "for i in range(10):\n",
    "    work = threading.Thread(target=slave)\n",
    "    threadings_list.append(work)\n",
    "    work.start()"
   ]
  },
  {
   "cell_type": "code",
   "execution_count": 10,
   "metadata": {},
   "outputs": [
    {
     "name": "stdout",
     "output_type": "stream",
     "text": [
      "CPU times: user 19.9 s, sys: 2.98 s, total: 22.9 s\n",
      "Wall time: 25.2 s\n"
     ]
    }
   ],
   "source": [
    "%%time\n",
    "\n",
    "image_path_list = os.listdir('images')\n",
    "\n",
    "for image_path in image_path_list:\n",
    "    create_thumbnail((128, 128), os.path.join('images', image_path))"
   ]
  },
  {
   "cell_type": "code",
   "execution_count": 19,
   "metadata": {},
   "outputs": [
    {
     "name": "stdout",
     "output_type": "stream",
     "text": [
      "CPU times: user 6.54 s, sys: 1.2 s, total: 7.75 s\n",
      "Wall time: 9.68 s\n"
     ]
    }
   ],
   "source": [
    "%%time\n",
    "\n",
    "import multiprocessing\n",
    "from multiprocessing import Pool\n",
    "from itertools import product\n",
    "\n",
    "p = multiprocessing.Pool(processes=9)\n",
    "\n",
    "image_path_list = os.listdir('images')\n",
    "\n",
    "for image_path in image_path_list:\n",
    "    \n",
    "    p.starmap(create_thumbnail, product((128, 128), os.path.join('images', image_path)))\n",
    "    \n"
   ]
  },
  {
   "cell_type": "code",
   "execution_count": 23,
   "metadata": {},
   "outputs": [],
   "source": [
    "from prettytable import PrettyTable\n",
    "x = PrettyTable()"
   ]
  },
  {
   "cell_type": "code",
   "execution_count": 24,
   "metadata": {},
   "outputs": [
    {
     "name": "stdout",
     "output_type": "stream",
     "text": [
      "+--------------------------------+------------+\n",
      "|          Description           | Time Taken |\n",
      "+--------------------------------+------------+\n",
      "|     John downloaded images     |  1min 28s  |\n",
      "|        Download images         |   11.2 s   |\n",
      "|      John resized images       |   25.2 s   |\n",
      "| MultiProcessing after resizing |   9.68 s   |\n",
      "+--------------------------------+------------+\n"
     ]
    }
   ],
   "source": [
    "x.field_names = [\"Description\", \"Time Taken\"]\n",
    "x.add_row([\"John downloaded images\", \"1min 28s\"])\n",
    "x.add_row([\"Download images\", \"11.2 s\"])\n",
    "x.add_row([\"John resized images\", \"25.2 s\"])\n",
    "x.add_row([\"MultiProcessing after resizing\", \"9.68 s\"])\n",
    "print(x)"
   ]
  },
  {
   "cell_type": "code",
   "execution_count": null,
   "metadata": {},
   "outputs": [],
   "source": []
  }
 ],
 "metadata": {
  "kernelspec": {
   "display_name": "Python 3",
   "language": "python",
   "name": "python3"
  },
  "language_info": {
   "codemirror_mode": {
    "name": "ipython",
    "version": 3
   },
   "file_extension": ".py",
   "mimetype": "text/x-python",
   "name": "python",
   "nbconvert_exporter": "python",
   "pygments_lexer": "ipython3",
   "version": "3.7.1"
  }
 },
 "nbformat": 4,
 "nbformat_minor": 2
}
